{
 "cells": [
  {
   "cell_type": "markdown",
   "metadata": {},
   "source": [
    "# Part I - (Prosper Loan Data)\n",
    "## by (Ismail Omodara)\n",
    "\n",
    "## Introduction\n",
    "This document explores a dataset containing loans and attributes for approximately 114,000 loan listing, with about 81 unique variables (such as loan amount, borrower rate (or interest rate), current loan status, borrower income, and many others) to give more information about each data entry (loan). Furthermore, for the purpose of our exploration and explanation, we would focus on paying attention to just 15 out of the 81 variables.\n",
    "\n",
    "<span id=\"dataset-variables\"></span>\n",
    "Variables we would be exploring\n",
    "    <ol>\n",
    "        <li>**Term** - The length of the loan expressed in months.</li>\n",
    "        <li>**LoanStatus** - The current status of the loan.</li>\n",
    "        <li>**BorrowerAPR** - The Borrower's Annual Percentage Rate (APR) for the loan.</li>\n",
    "        <li>**BorrowerRate** - The Borrower's interest rate for this loan. </li>\n",
    "    <li>**ProsperScore** - A custom risk score built using historical Prosper data.</li>\n",
    "        <li>**Occupation** - The Occupation selected by the Borrower at the time they created the listing.</li>\n",
    "        <li>**EmploymentStatus** - The employment status of the borrower at the time they posted the listing.</li>\n",
    "    <li>**EmploymentStatusDuration** - The length in months of the employment status at the time the listing was created.</li>\n",
    "    <li>**OpenRevolvingMonthlyPayment** - Monthly payment on revolving accounts at the time the credit profile was pulled.</li>\n",
    "        <li>**StatedMonthlyIncome** - The monthly income the borrower stated at the time the listing was created.</li>\n",
    "    <li>**ScorexChangeAtTimeOfListing** - Borrower's credit score change at the time the credit profile was pulled. This will be the change relative to the borrower's last Prosper loan. This value will be null if the borrower had no prior loans.</li>\n",
    "        <li>**LoanOriginalAmount** - The origination amount of the loan.</li>\n",
    "        <li>**MonthlyLoanPayment** - The scheduled monthly loan payment.</li>\n",
    "    <li>**Investors** - The number of investers that funded the loan.</li>\n",
    "    </ol>\n",
    "\n",
    "\n"
   ]
  },
  {
   "cell_type": "code",
   "execution_count": 364,
   "metadata": {},
   "outputs": [],
   "source": [
    "# import all packages and set plots to be embedded inline\n",
    "import numpy as np\n",
    "import pandas as pd\n",
    "import matplotlib.pyplot as plt\n",
    "import seaborn as sb\n",
    "\n",
    "%matplotlib inline"
   ]
  },
  {
   "cell_type": "code",
   "execution_count": 365,
   "metadata": {},
   "outputs": [],
   "source": [
    "# Load in the dataset into a pandas dataframe\n",
    "loans_all = pd.read_csv('prosperLoanData.csv')"
   ]
  },
  {
   "cell_type": "code",
   "execution_count": 366,
   "metadata": {},
   "outputs": [
    {
     "name": "stdout",
     "output_type": "stream",
     "text": [
      "(113937, 81)\n"
     ]
    },
    {
     "data": {
      "text/html": [
       "<div>\n",
       "<style scoped>\n",
       "    .dataframe tbody tr th:only-of-type {\n",
       "        vertical-align: middle;\n",
       "    }\n",
       "\n",
       "    .dataframe tbody tr th {\n",
       "        vertical-align: top;\n",
       "    }\n",
       "\n",
       "    .dataframe thead th {\n",
       "        text-align: right;\n",
       "    }\n",
       "</style>\n",
       "<table border=\"1\" class=\"dataframe\">\n",
       "  <thead>\n",
       "    <tr style=\"text-align: right;\">\n",
       "      <th></th>\n",
       "      <th>ListingKey</th>\n",
       "      <th>ListingNumber</th>\n",
       "      <th>ListingCreationDate</th>\n",
       "      <th>CreditGrade</th>\n",
       "      <th>Term</th>\n",
       "      <th>LoanStatus</th>\n",
       "      <th>ClosedDate</th>\n",
       "      <th>BorrowerAPR</th>\n",
       "      <th>BorrowerRate</th>\n",
       "      <th>LenderYield</th>\n",
       "      <th>...</th>\n",
       "      <th>LP_ServiceFees</th>\n",
       "      <th>LP_CollectionFees</th>\n",
       "      <th>LP_GrossPrincipalLoss</th>\n",
       "      <th>LP_NetPrincipalLoss</th>\n",
       "      <th>LP_NonPrincipalRecoverypayments</th>\n",
       "      <th>PercentFunded</th>\n",
       "      <th>Recommendations</th>\n",
       "      <th>InvestmentFromFriendsCount</th>\n",
       "      <th>InvestmentFromFriendsAmount</th>\n",
       "      <th>Investors</th>\n",
       "    </tr>\n",
       "  </thead>\n",
       "  <tbody>\n",
       "    <tr>\n",
       "      <th>0</th>\n",
       "      <td>1021339766868145413AB3B</td>\n",
       "      <td>193129</td>\n",
       "      <td>2007-08-26 19:09:29.263000000</td>\n",
       "      <td>C</td>\n",
       "      <td>36</td>\n",
       "      <td>Completed</td>\n",
       "      <td>2009-08-14 00:00:00</td>\n",
       "      <td>0.16516</td>\n",
       "      <td>0.1580</td>\n",
       "      <td>0.1380</td>\n",
       "      <td>...</td>\n",
       "      <td>-133.18</td>\n",
       "      <td>0.0</td>\n",
       "      <td>0.0</td>\n",
       "      <td>0.0</td>\n",
       "      <td>0.0</td>\n",
       "      <td>1.0</td>\n",
       "      <td>0</td>\n",
       "      <td>0</td>\n",
       "      <td>0.0</td>\n",
       "      <td>258</td>\n",
       "    </tr>\n",
       "    <tr>\n",
       "      <th>1</th>\n",
       "      <td>10273602499503308B223C1</td>\n",
       "      <td>1209647</td>\n",
       "      <td>2014-02-27 08:28:07.900000000</td>\n",
       "      <td>NaN</td>\n",
       "      <td>36</td>\n",
       "      <td>Current</td>\n",
       "      <td>NaN</td>\n",
       "      <td>0.12016</td>\n",
       "      <td>0.0920</td>\n",
       "      <td>0.0820</td>\n",
       "      <td>...</td>\n",
       "      <td>0.00</td>\n",
       "      <td>0.0</td>\n",
       "      <td>0.0</td>\n",
       "      <td>0.0</td>\n",
       "      <td>0.0</td>\n",
       "      <td>1.0</td>\n",
       "      <td>0</td>\n",
       "      <td>0</td>\n",
       "      <td>0.0</td>\n",
       "      <td>1</td>\n",
       "    </tr>\n",
       "    <tr>\n",
       "      <th>2</th>\n",
       "      <td>0EE9337825851032864889A</td>\n",
       "      <td>81716</td>\n",
       "      <td>2007-01-05 15:00:47.090000000</td>\n",
       "      <td>HR</td>\n",
       "      <td>36</td>\n",
       "      <td>Completed</td>\n",
       "      <td>2009-12-17 00:00:00</td>\n",
       "      <td>0.28269</td>\n",
       "      <td>0.2750</td>\n",
       "      <td>0.2400</td>\n",
       "      <td>...</td>\n",
       "      <td>-24.20</td>\n",
       "      <td>0.0</td>\n",
       "      <td>0.0</td>\n",
       "      <td>0.0</td>\n",
       "      <td>0.0</td>\n",
       "      <td>1.0</td>\n",
       "      <td>0</td>\n",
       "      <td>0</td>\n",
       "      <td>0.0</td>\n",
       "      <td>41</td>\n",
       "    </tr>\n",
       "    <tr>\n",
       "      <th>3</th>\n",
       "      <td>0EF5356002482715299901A</td>\n",
       "      <td>658116</td>\n",
       "      <td>2012-10-22 11:02:35.010000000</td>\n",
       "      <td>NaN</td>\n",
       "      <td>36</td>\n",
       "      <td>Current</td>\n",
       "      <td>NaN</td>\n",
       "      <td>0.12528</td>\n",
       "      <td>0.0974</td>\n",
       "      <td>0.0874</td>\n",
       "      <td>...</td>\n",
       "      <td>-108.01</td>\n",
       "      <td>0.0</td>\n",
       "      <td>0.0</td>\n",
       "      <td>0.0</td>\n",
       "      <td>0.0</td>\n",
       "      <td>1.0</td>\n",
       "      <td>0</td>\n",
       "      <td>0</td>\n",
       "      <td>0.0</td>\n",
       "      <td>158</td>\n",
       "    </tr>\n",
       "    <tr>\n",
       "      <th>4</th>\n",
       "      <td>0F023589499656230C5E3E2</td>\n",
       "      <td>909464</td>\n",
       "      <td>2013-09-14 18:38:39.097000000</td>\n",
       "      <td>NaN</td>\n",
       "      <td>36</td>\n",
       "      <td>Current</td>\n",
       "      <td>NaN</td>\n",
       "      <td>0.24614</td>\n",
       "      <td>0.2085</td>\n",
       "      <td>0.1985</td>\n",
       "      <td>...</td>\n",
       "      <td>-60.27</td>\n",
       "      <td>0.0</td>\n",
       "      <td>0.0</td>\n",
       "      <td>0.0</td>\n",
       "      <td>0.0</td>\n",
       "      <td>1.0</td>\n",
       "      <td>0</td>\n",
       "      <td>0</td>\n",
       "      <td>0.0</td>\n",
       "      <td>20</td>\n",
       "    </tr>\n",
       "  </tbody>\n",
       "</table>\n",
       "<p>5 rows × 81 columns</p>\n",
       "</div>"
      ],
      "text/plain": [
       "                ListingKey  ListingNumber            ListingCreationDate  \\\n",
       "0  1021339766868145413AB3B         193129  2007-08-26 19:09:29.263000000   \n",
       "1  10273602499503308B223C1        1209647  2014-02-27 08:28:07.900000000   \n",
       "2  0EE9337825851032864889A          81716  2007-01-05 15:00:47.090000000   \n",
       "3  0EF5356002482715299901A         658116  2012-10-22 11:02:35.010000000   \n",
       "4  0F023589499656230C5E3E2         909464  2013-09-14 18:38:39.097000000   \n",
       "\n",
       "  CreditGrade  Term LoanStatus           ClosedDate  BorrowerAPR  \\\n",
       "0           C    36  Completed  2009-08-14 00:00:00      0.16516   \n",
       "1         NaN    36    Current                  NaN      0.12016   \n",
       "2          HR    36  Completed  2009-12-17 00:00:00      0.28269   \n",
       "3         NaN    36    Current                  NaN      0.12528   \n",
       "4         NaN    36    Current                  NaN      0.24614   \n",
       "\n",
       "   BorrowerRate  LenderYield  ...  LP_ServiceFees  LP_CollectionFees  \\\n",
       "0        0.1580       0.1380  ...         -133.18                0.0   \n",
       "1        0.0920       0.0820  ...            0.00                0.0   \n",
       "2        0.2750       0.2400  ...          -24.20                0.0   \n",
       "3        0.0974       0.0874  ...         -108.01                0.0   \n",
       "4        0.2085       0.1985  ...          -60.27                0.0   \n",
       "\n",
       "   LP_GrossPrincipalLoss  LP_NetPrincipalLoss LP_NonPrincipalRecoverypayments  \\\n",
       "0                    0.0                  0.0                             0.0   \n",
       "1                    0.0                  0.0                             0.0   \n",
       "2                    0.0                  0.0                             0.0   \n",
       "3                    0.0                  0.0                             0.0   \n",
       "4                    0.0                  0.0                             0.0   \n",
       "\n",
       "   PercentFunded  Recommendations InvestmentFromFriendsCount  \\\n",
       "0            1.0                0                          0   \n",
       "1            1.0                0                          0   \n",
       "2            1.0                0                          0   \n",
       "3            1.0                0                          0   \n",
       "4            1.0                0                          0   \n",
       "\n",
       "  InvestmentFromFriendsAmount Investors  \n",
       "0                         0.0       258  \n",
       "1                         0.0         1  \n",
       "2                         0.0        41  \n",
       "3                         0.0       158  \n",
       "4                         0.0        20  \n",
       "\n",
       "[5 rows x 81 columns]"
      ]
     },
     "execution_count": 366,
     "metadata": {},
     "output_type": "execute_result"
    }
   ],
   "source": [
    "print(loans_all.shape)\n",
    "loans_all.head()"
   ]
  },
  {
   "cell_type": "code",
   "execution_count": 367,
   "metadata": {},
   "outputs": [],
   "source": [
    "# Since we would be dealing with specific variables, we can to create a copy of the original\n",
    "# dataset so we can see all columns at once\n",
    "\n",
    "variables = [\"Term\", \"LoanStatus\", \"BorrowerAPR\", \"BorrowerRate\", \"ProsperScore\", \"Occupation\", \"EmploymentStatus\", \n",
    "             \"EmploymentStatusDuration\", \"OpenRevolvingMonthlyPayment\", \"StatedMonthlyIncome\", \n",
    "             \"ScorexChangeAtTimeOfListing\", \"LoanOriginalAmount\", \"MonthlyLoanPayment\", \n",
    "             \"Investors\"]\n",
    "\n",
    "loans = loans_all[variables].copy()"
   ]
  },
  {
   "cell_type": "code",
   "execution_count": 368,
   "metadata": {},
   "outputs": [
    {
     "name": "stdout",
     "output_type": "stream",
     "text": [
      "(113937, 14)\n"
     ]
    },
    {
     "data": {
      "text/html": [
       "<div>\n",
       "<style scoped>\n",
       "    .dataframe tbody tr th:only-of-type {\n",
       "        vertical-align: middle;\n",
       "    }\n",
       "\n",
       "    .dataframe tbody tr th {\n",
       "        vertical-align: top;\n",
       "    }\n",
       "\n",
       "    .dataframe thead th {\n",
       "        text-align: right;\n",
       "    }\n",
       "</style>\n",
       "<table border=\"1\" class=\"dataframe\">\n",
       "  <thead>\n",
       "    <tr style=\"text-align: right;\">\n",
       "      <th></th>\n",
       "      <th>Term</th>\n",
       "      <th>LoanStatus</th>\n",
       "      <th>BorrowerAPR</th>\n",
       "      <th>BorrowerRate</th>\n",
       "      <th>ProsperScore</th>\n",
       "      <th>Occupation</th>\n",
       "      <th>EmploymentStatus</th>\n",
       "      <th>EmploymentStatusDuration</th>\n",
       "      <th>OpenRevolvingMonthlyPayment</th>\n",
       "      <th>StatedMonthlyIncome</th>\n",
       "      <th>ScorexChangeAtTimeOfListing</th>\n",
       "      <th>LoanOriginalAmount</th>\n",
       "      <th>MonthlyLoanPayment</th>\n",
       "      <th>Investors</th>\n",
       "    </tr>\n",
       "  </thead>\n",
       "  <tbody>\n",
       "    <tr>\n",
       "      <th>0</th>\n",
       "      <td>36</td>\n",
       "      <td>Completed</td>\n",
       "      <td>0.16516</td>\n",
       "      <td>0.1580</td>\n",
       "      <td>NaN</td>\n",
       "      <td>Other</td>\n",
       "      <td>Self-employed</td>\n",
       "      <td>2.0</td>\n",
       "      <td>24.0</td>\n",
       "      <td>3083.333333</td>\n",
       "      <td>NaN</td>\n",
       "      <td>9425</td>\n",
       "      <td>330.43</td>\n",
       "      <td>258</td>\n",
       "    </tr>\n",
       "    <tr>\n",
       "      <th>1</th>\n",
       "      <td>36</td>\n",
       "      <td>Current</td>\n",
       "      <td>0.12016</td>\n",
       "      <td>0.0920</td>\n",
       "      <td>7.0</td>\n",
       "      <td>Professional</td>\n",
       "      <td>Employed</td>\n",
       "      <td>44.0</td>\n",
       "      <td>389.0</td>\n",
       "      <td>6125.000000</td>\n",
       "      <td>NaN</td>\n",
       "      <td>10000</td>\n",
       "      <td>318.93</td>\n",
       "      <td>1</td>\n",
       "    </tr>\n",
       "    <tr>\n",
       "      <th>2</th>\n",
       "      <td>36</td>\n",
       "      <td>Completed</td>\n",
       "      <td>0.28269</td>\n",
       "      <td>0.2750</td>\n",
       "      <td>NaN</td>\n",
       "      <td>Other</td>\n",
       "      <td>Not available</td>\n",
       "      <td>NaN</td>\n",
       "      <td>0.0</td>\n",
       "      <td>2083.333333</td>\n",
       "      <td>NaN</td>\n",
       "      <td>3001</td>\n",
       "      <td>123.32</td>\n",
       "      <td>41</td>\n",
       "    </tr>\n",
       "    <tr>\n",
       "      <th>3</th>\n",
       "      <td>36</td>\n",
       "      <td>Current</td>\n",
       "      <td>0.12528</td>\n",
       "      <td>0.0974</td>\n",
       "      <td>9.0</td>\n",
       "      <td>Skilled Labor</td>\n",
       "      <td>Employed</td>\n",
       "      <td>113.0</td>\n",
       "      <td>115.0</td>\n",
       "      <td>2875.000000</td>\n",
       "      <td>NaN</td>\n",
       "      <td>10000</td>\n",
       "      <td>321.45</td>\n",
       "      <td>158</td>\n",
       "    </tr>\n",
       "    <tr>\n",
       "      <th>4</th>\n",
       "      <td>36</td>\n",
       "      <td>Current</td>\n",
       "      <td>0.24614</td>\n",
       "      <td>0.2085</td>\n",
       "      <td>4.0</td>\n",
       "      <td>Executive</td>\n",
       "      <td>Employed</td>\n",
       "      <td>44.0</td>\n",
       "      <td>220.0</td>\n",
       "      <td>9583.333333</td>\n",
       "      <td>NaN</td>\n",
       "      <td>15000</td>\n",
       "      <td>563.97</td>\n",
       "      <td>20</td>\n",
       "    </tr>\n",
       "  </tbody>\n",
       "</table>\n",
       "</div>"
      ],
      "text/plain": [
       "   Term LoanStatus  BorrowerAPR  BorrowerRate  ProsperScore     Occupation  \\\n",
       "0    36  Completed      0.16516        0.1580           NaN          Other   \n",
       "1    36    Current      0.12016        0.0920           7.0   Professional   \n",
       "2    36  Completed      0.28269        0.2750           NaN          Other   \n",
       "3    36    Current      0.12528        0.0974           9.0  Skilled Labor   \n",
       "4    36    Current      0.24614        0.2085           4.0      Executive   \n",
       "\n",
       "  EmploymentStatus  EmploymentStatusDuration  OpenRevolvingMonthlyPayment  \\\n",
       "0    Self-employed                       2.0                         24.0   \n",
       "1         Employed                      44.0                        389.0   \n",
       "2    Not available                       NaN                          0.0   \n",
       "3         Employed                     113.0                        115.0   \n",
       "4         Employed                      44.0                        220.0   \n",
       "\n",
       "   StatedMonthlyIncome  ScorexChangeAtTimeOfListing  LoanOriginalAmount  \\\n",
       "0          3083.333333                          NaN                9425   \n",
       "1          6125.000000                          NaN               10000   \n",
       "2          2083.333333                          NaN                3001   \n",
       "3          2875.000000                          NaN               10000   \n",
       "4          9583.333333                          NaN               15000   \n",
       "\n",
       "   MonthlyLoanPayment  Investors  \n",
       "0              330.43        258  \n",
       "1              318.93          1  \n",
       "2              123.32         41  \n",
       "3              321.45        158  \n",
       "4              563.97         20  "
      ]
     },
     "execution_count": 368,
     "metadata": {},
     "output_type": "execute_result"
    }
   ],
   "source": [
    "print(loans.shape)\n",
    "loans.head()"
   ]
  },
  {
   "cell_type": "code",
   "execution_count": 369,
   "metadata": {},
   "outputs": [
    {
     "name": "stdout",
     "output_type": "stream",
     "text": [
      "<class 'pandas.core.frame.DataFrame'>\n",
      "RangeIndex: 113937 entries, 0 to 113936\n",
      "Data columns (total 14 columns):\n",
      " #   Column                       Non-Null Count   Dtype  \n",
      "---  ------                       --------------   -----  \n",
      " 0   Term                         113937 non-null  int64  \n",
      " 1   LoanStatus                   113937 non-null  object \n",
      " 2   BorrowerAPR                  113912 non-null  float64\n",
      " 3   BorrowerRate                 113937 non-null  float64\n",
      " 4   ProsperScore                 84853 non-null   float64\n",
      " 5   Occupation                   110349 non-null  object \n",
      " 6   EmploymentStatus             111682 non-null  object \n",
      " 7   EmploymentStatusDuration     106312 non-null  float64\n",
      " 8   OpenRevolvingMonthlyPayment  113937 non-null  float64\n",
      " 9   StatedMonthlyIncome          113937 non-null  float64\n",
      " 10  ScorexChangeAtTimeOfListing  18928 non-null   float64\n",
      " 11  LoanOriginalAmount           113937 non-null  int64  \n",
      " 12  MonthlyLoanPayment           113937 non-null  float64\n",
      " 13  Investors                    113937 non-null  int64  \n",
      "dtypes: float64(8), int64(3), object(3)\n",
      "memory usage: 12.2+ MB\n"
     ]
    }
   ],
   "source": [
    "loans.info()"
   ]
  },
  {
   "cell_type": "code",
   "execution_count": 370,
   "metadata": {},
   "outputs": [
    {
     "data": {
      "text/html": [
       "<div>\n",
       "<style scoped>\n",
       "    .dataframe tbody tr th:only-of-type {\n",
       "        vertical-align: middle;\n",
       "    }\n",
       "\n",
       "    .dataframe tbody tr th {\n",
       "        vertical-align: top;\n",
       "    }\n",
       "\n",
       "    .dataframe thead th {\n",
       "        text-align: right;\n",
       "    }\n",
       "</style>\n",
       "<table border=\"1\" class=\"dataframe\">\n",
       "  <thead>\n",
       "    <tr style=\"text-align: right;\">\n",
       "      <th></th>\n",
       "      <th>Term</th>\n",
       "      <th>BorrowerAPR</th>\n",
       "      <th>BorrowerRate</th>\n",
       "      <th>ProsperScore</th>\n",
       "      <th>EmploymentStatusDuration</th>\n",
       "      <th>OpenRevolvingMonthlyPayment</th>\n",
       "      <th>StatedMonthlyIncome</th>\n",
       "      <th>ScorexChangeAtTimeOfListing</th>\n",
       "      <th>LoanOriginalAmount</th>\n",
       "      <th>MonthlyLoanPayment</th>\n",
       "      <th>Investors</th>\n",
       "    </tr>\n",
       "  </thead>\n",
       "  <tbody>\n",
       "    <tr>\n",
       "      <th>count</th>\n",
       "      <td>113937.000000</td>\n",
       "      <td>113912.000000</td>\n",
       "      <td>113937.000000</td>\n",
       "      <td>84853.000000</td>\n",
       "      <td>106312.000000</td>\n",
       "      <td>113937.000000</td>\n",
       "      <td>1.139370e+05</td>\n",
       "      <td>18928.000000</td>\n",
       "      <td>113937.00000</td>\n",
       "      <td>113937.000000</td>\n",
       "      <td>113937.000000</td>\n",
       "    </tr>\n",
       "    <tr>\n",
       "      <th>mean</th>\n",
       "      <td>40.830248</td>\n",
       "      <td>0.218828</td>\n",
       "      <td>0.192764</td>\n",
       "      <td>5.950067</td>\n",
       "      <td>96.071582</td>\n",
       "      <td>398.292161</td>\n",
       "      <td>5.608026e+03</td>\n",
       "      <td>-3.223214</td>\n",
       "      <td>8337.01385</td>\n",
       "      <td>272.475783</td>\n",
       "      <td>80.475228</td>\n",
       "    </tr>\n",
       "    <tr>\n",
       "      <th>std</th>\n",
       "      <td>10.436212</td>\n",
       "      <td>0.080364</td>\n",
       "      <td>0.074818</td>\n",
       "      <td>2.376501</td>\n",
       "      <td>94.480605</td>\n",
       "      <td>447.159711</td>\n",
       "      <td>7.478497e+03</td>\n",
       "      <td>50.063567</td>\n",
       "      <td>6245.80058</td>\n",
       "      <td>192.697812</td>\n",
       "      <td>103.239020</td>\n",
       "    </tr>\n",
       "    <tr>\n",
       "      <th>min</th>\n",
       "      <td>12.000000</td>\n",
       "      <td>0.006530</td>\n",
       "      <td>0.000000</td>\n",
       "      <td>1.000000</td>\n",
       "      <td>0.000000</td>\n",
       "      <td>0.000000</td>\n",
       "      <td>0.000000e+00</td>\n",
       "      <td>-209.000000</td>\n",
       "      <td>1000.00000</td>\n",
       "      <td>0.000000</td>\n",
       "      <td>1.000000</td>\n",
       "    </tr>\n",
       "    <tr>\n",
       "      <th>25%</th>\n",
       "      <td>36.000000</td>\n",
       "      <td>0.156290</td>\n",
       "      <td>0.134000</td>\n",
       "      <td>4.000000</td>\n",
       "      <td>26.000000</td>\n",
       "      <td>114.000000</td>\n",
       "      <td>3.200333e+03</td>\n",
       "      <td>-35.000000</td>\n",
       "      <td>4000.00000</td>\n",
       "      <td>131.620000</td>\n",
       "      <td>2.000000</td>\n",
       "    </tr>\n",
       "    <tr>\n",
       "      <th>50%</th>\n",
       "      <td>36.000000</td>\n",
       "      <td>0.209760</td>\n",
       "      <td>0.184000</td>\n",
       "      <td>6.000000</td>\n",
       "      <td>67.000000</td>\n",
       "      <td>271.000000</td>\n",
       "      <td>4.666667e+03</td>\n",
       "      <td>-3.000000</td>\n",
       "      <td>6500.00000</td>\n",
       "      <td>217.740000</td>\n",
       "      <td>44.000000</td>\n",
       "    </tr>\n",
       "    <tr>\n",
       "      <th>75%</th>\n",
       "      <td>36.000000</td>\n",
       "      <td>0.283810</td>\n",
       "      <td>0.250000</td>\n",
       "      <td>8.000000</td>\n",
       "      <td>137.000000</td>\n",
       "      <td>525.000000</td>\n",
       "      <td>6.825000e+03</td>\n",
       "      <td>25.000000</td>\n",
       "      <td>12000.00000</td>\n",
       "      <td>371.580000</td>\n",
       "      <td>115.000000</td>\n",
       "    </tr>\n",
       "    <tr>\n",
       "      <th>max</th>\n",
       "      <td>60.000000</td>\n",
       "      <td>0.512290</td>\n",
       "      <td>0.497500</td>\n",
       "      <td>11.000000</td>\n",
       "      <td>755.000000</td>\n",
       "      <td>14985.000000</td>\n",
       "      <td>1.750003e+06</td>\n",
       "      <td>286.000000</td>\n",
       "      <td>35000.00000</td>\n",
       "      <td>2251.510000</td>\n",
       "      <td>1189.000000</td>\n",
       "    </tr>\n",
       "  </tbody>\n",
       "</table>\n",
       "</div>"
      ],
      "text/plain": [
       "                Term    BorrowerAPR   BorrowerRate  ProsperScore  \\\n",
       "count  113937.000000  113912.000000  113937.000000  84853.000000   \n",
       "mean       40.830248       0.218828       0.192764      5.950067   \n",
       "std        10.436212       0.080364       0.074818      2.376501   \n",
       "min        12.000000       0.006530       0.000000      1.000000   \n",
       "25%        36.000000       0.156290       0.134000      4.000000   \n",
       "50%        36.000000       0.209760       0.184000      6.000000   \n",
       "75%        36.000000       0.283810       0.250000      8.000000   \n",
       "max        60.000000       0.512290       0.497500     11.000000   \n",
       "\n",
       "       EmploymentStatusDuration  OpenRevolvingMonthlyPayment  \\\n",
       "count             106312.000000                113937.000000   \n",
       "mean                  96.071582                   398.292161   \n",
       "std                   94.480605                   447.159711   \n",
       "min                    0.000000                     0.000000   \n",
       "25%                   26.000000                   114.000000   \n",
       "50%                   67.000000                   271.000000   \n",
       "75%                  137.000000                   525.000000   \n",
       "max                  755.000000                 14985.000000   \n",
       "\n",
       "       StatedMonthlyIncome  ScorexChangeAtTimeOfListing  LoanOriginalAmount  \\\n",
       "count         1.139370e+05                 18928.000000        113937.00000   \n",
       "mean          5.608026e+03                    -3.223214          8337.01385   \n",
       "std           7.478497e+03                    50.063567          6245.80058   \n",
       "min           0.000000e+00                  -209.000000          1000.00000   \n",
       "25%           3.200333e+03                   -35.000000          4000.00000   \n",
       "50%           4.666667e+03                    -3.000000          6500.00000   \n",
       "75%           6.825000e+03                    25.000000         12000.00000   \n",
       "max           1.750003e+06                   286.000000         35000.00000   \n",
       "\n",
       "       MonthlyLoanPayment      Investors  \n",
       "count       113937.000000  113937.000000  \n",
       "mean           272.475783      80.475228  \n",
       "std            192.697812     103.239020  \n",
       "min              0.000000       1.000000  \n",
       "25%            131.620000       2.000000  \n",
       "50%            217.740000      44.000000  \n",
       "75%            371.580000     115.000000  \n",
       "max           2251.510000    1189.000000  "
      ]
     },
     "execution_count": 370,
     "metadata": {},
     "output_type": "execute_result"
    }
   ],
   "source": [
    "loans.describe()"
   ]
  },
  {
   "cell_type": "markdown",
   "metadata": {},
   "source": [
    "### Observation\n",
    "\n",
    "#### Quality Issue\n",
    "- Missing value for some entries:\n",
    "    - BorrowerAPR, \n",
    "    - Occupation, \n",
    "    - EmploymentStatus, \n",
    "    - EmploymentStatusDuration\n",
    "\n",
    "#### Tidiness Issues\n",
    "- `ProsperScore` - The missing values for entry before July 2009. Also maximum value should be 10.\n",
    "- `ScorexChangeAtTimeOfListing` - The missing values for listings where borrower has no prior loans.\n"
   ]
  },
  {
   "cell_type": "markdown",
   "metadata": {},
   "source": [
    "### Cleaning Dataset"
   ]
  },
  {
   "cell_type": "code",
   "execution_count": 371,
   "metadata": {},
   "outputs": [],
   "source": [
    "# Make a copy of dataset\n",
    "\n",
    "loans_clean = loans.copy()"
   ]
  },
  {
   "cell_type": "code",
   "execution_count": 372,
   "metadata": {
    "scrolled": true
   },
   "outputs": [
    {
     "name": "stdout",
     "output_type": "stream",
     "text": [
      "Before removal - (113937, 14)\n",
      "After removal - (104985, 14)\n"
     ]
    }
   ],
   "source": [
    "# Remove all entries with empty BorrowerAPR, Occupation, EmploymentStatus, EmploymentStatusDuration values\n",
    "\n",
    "print('Before removal - {}'.format(loans_clean.shape))\n",
    "\n",
    "loans_clean = loans_clean[loans_clean['BorrowerAPR'].notna()]\n",
    "loans_clean = loans_clean[loans_clean['Occupation'].notna()]\n",
    "loans_clean = loans_clean[loans_clean['EmploymentStatus'].notna()]\n",
    "loans_clean = loans_clean[loans_clean['EmploymentStatusDuration'].notna()]\n",
    "\n",
    "print('After removal - {}'.format(loans_clean.shape))"
   ]
  },
  {
   "cell_type": "code",
   "execution_count": 373,
   "metadata": {},
   "outputs": [
    {
     "name": "stdout",
     "output_type": "stream",
     "text": [
      "Empty Prosper Scores -  21478\n"
     ]
    },
    {
     "data": {
      "text/plain": [
       "Completed     13891\n",
       "Chargedoff     5300\n",
       "Defaulted      2286\n",
       "Cancelled         1\n",
       "Name: LoanStatus, dtype: int64"
      ]
     },
     "execution_count": 373,
     "metadata": {},
     "output_type": "execute_result"
    }
   ],
   "source": [
    "# Checking for the LoanStatus of entries with ProsperScore as null\n",
    "\n",
    "print('Empty Prosper Scores - ', loans_clean.ProsperScore.isnull().sum())\n",
    "loans_clean[loans_clean.ProsperScore.isnull()]['LoanStatus'].value_counts()"
   ]
  },
  {
   "cell_type": "code",
   "execution_count": 374,
   "metadata": {},
   "outputs": [
    {
     "name": "stdout",
     "output_type": "stream",
     "text": [
      "Completed Mean -  6.5379250661779675\n",
      "ChargedOff Mean -  5.390701162354706\n",
      "Defaulted Mean -  5.619900497512438\n"
     ]
    }
   ],
   "source": [
    "# Calculating the mean of ProsperScore for Completed, Chargedoff, Defualted\n",
    "\n",
    "print('Completed Mean - ', loans_clean.query('LoanStatus == \"Completed\"')['ProsperScore'].mean())\n",
    "print('ChargedOff Mean - ', loans_clean.query('LoanStatus == \"Chargedoff\"')['ProsperScore'].mean())\n",
    "print('Defaulted Mean - ', loans_clean.query('LoanStatus == \"Defaulted\"')['ProsperScore'].mean())"
   ]
  },
  {
   "cell_type": "code",
   "execution_count": 375,
   "metadata": {},
   "outputs": [],
   "source": [
    "# We have created a function to help assign a value to all the entires with NaN ProsperScore\n",
    "'''\n",
    "    Completed - Borrower completed loan repayment on time, hence a high score (low risk) value is assigned.\n",
    "    Chargedoff - Borrower completed loan repayment before time, hence a higher score (lower risk) value is assigned.\n",
    "    Defaulted - Borrower did not complete loan repayment, hence lower score (high risk)\n",
    "    Cancelled - A lower score than Defaulted\n",
    "'''\n",
    "def set_prosper_score(entry):\n",
    "    \n",
    "    score = entry.ProsperScore\n",
    "    status = entry.LoanStatus\n",
    "    \n",
    "    if (score > 0):\n",
    "        return score\n",
    "    else:\n",
    "        if (status == 'Completed'):\n",
    "            return 7.0\n",
    "        elif (status == 'Chargedoff'):\n",
    "            return 5.0\n",
    "        elif (status == 'Defaulted'):\n",
    "            return 5.0\n",
    "        else:\n",
    "            return 1.0"
   ]
  },
  {
   "cell_type": "code",
   "execution_count": 376,
   "metadata": {},
   "outputs": [
    {
     "data": {
      "text/plain": [
       "21478"
      ]
     },
     "execution_count": 376,
     "metadata": {},
     "output_type": "execute_result"
    }
   ],
   "source": [
    "loans_clean.ProsperScore.isnull().sum()"
   ]
  },
  {
   "cell_type": "code",
   "execution_count": 377,
   "metadata": {},
   "outputs": [],
   "source": [
    "# Fill up the null ProsperScore in the dataset\n",
    "\n",
    "loans_clean['ProsperScore'] = loans_clean.apply(set_prosper_score, axis=1)"
   ]
  },
  {
   "cell_type": "code",
   "execution_count": 378,
   "metadata": {},
   "outputs": [],
   "source": [
    "# Retain all entries where ProsperScore <= 10\n",
    "\n",
    "loans_clean = loans_clean[loans_clean['ProsperScore'] <= 10.0]"
   ]
  },
  {
   "cell_type": "code",
   "execution_count": 379,
   "metadata": {},
   "outputs": [
    {
     "data": {
      "text/plain": [
       "0"
      ]
     },
     "execution_count": 379,
     "metadata": {},
     "output_type": "execute_result"
    }
   ],
   "source": [
    "loans_clean.ProsperScore.isnull().sum()"
   ]
  },
  {
   "cell_type": "code",
   "execution_count": 380,
   "metadata": {},
   "outputs": [],
   "source": [
    "# Fill up the null ScorexChangeAtTimeOfListing in the dataset\n",
    "\n",
    "loans_clean['ScorexChangeAtTimeOfListing'].fillna(0.0, inplace=True)"
   ]
  },
  {
   "cell_type": "code",
   "execution_count": 381,
   "metadata": {},
   "outputs": [
    {
     "name": "stdout",
     "output_type": "stream",
     "text": [
      "<class 'pandas.core.frame.DataFrame'>\n",
      "Int64Index: 103549 entries, 0 to 113936\n",
      "Data columns (total 14 columns):\n",
      " #   Column                       Non-Null Count   Dtype  \n",
      "---  ------                       --------------   -----  \n",
      " 0   Term                         103549 non-null  int64  \n",
      " 1   LoanStatus                   103549 non-null  object \n",
      " 2   BorrowerAPR                  103549 non-null  float64\n",
      " 3   BorrowerRate                 103549 non-null  float64\n",
      " 4   ProsperScore                 103549 non-null  float64\n",
      " 5   Occupation                   103549 non-null  object \n",
      " 6   EmploymentStatus             103549 non-null  object \n",
      " 7   EmploymentStatusDuration     103549 non-null  float64\n",
      " 8   OpenRevolvingMonthlyPayment  103549 non-null  float64\n",
      " 9   StatedMonthlyIncome          103549 non-null  float64\n",
      " 10  ScorexChangeAtTimeOfListing  103549 non-null  float64\n",
      " 11  LoanOriginalAmount           103549 non-null  int64  \n",
      " 12  MonthlyLoanPayment           103549 non-null  float64\n",
      " 13  Investors                    103549 non-null  int64  \n",
      "dtypes: float64(8), int64(3), object(3)\n",
      "memory usage: 11.9+ MB\n"
     ]
    }
   ],
   "source": [
    "# Reviewing the result of the cleaning exercise\n",
    "\n",
    "loans_clean.info()"
   ]
  },
  {
   "cell_type": "code",
   "execution_count": 382,
   "metadata": {},
   "outputs": [
    {
     "data": {
      "text/html": [
       "<div>\n",
       "<style scoped>\n",
       "    .dataframe tbody tr th:only-of-type {\n",
       "        vertical-align: middle;\n",
       "    }\n",
       "\n",
       "    .dataframe tbody tr th {\n",
       "        vertical-align: top;\n",
       "    }\n",
       "\n",
       "    .dataframe thead th {\n",
       "        text-align: right;\n",
       "    }\n",
       "</style>\n",
       "<table border=\"1\" class=\"dataframe\">\n",
       "  <thead>\n",
       "    <tr style=\"text-align: right;\">\n",
       "      <th></th>\n",
       "      <th>Term</th>\n",
       "      <th>BorrowerAPR</th>\n",
       "      <th>BorrowerRate</th>\n",
       "      <th>ProsperScore</th>\n",
       "      <th>EmploymentStatusDuration</th>\n",
       "      <th>OpenRevolvingMonthlyPayment</th>\n",
       "      <th>StatedMonthlyIncome</th>\n",
       "      <th>ScorexChangeAtTimeOfListing</th>\n",
       "      <th>LoanOriginalAmount</th>\n",
       "      <th>MonthlyLoanPayment</th>\n",
       "      <th>Investors</th>\n",
       "    </tr>\n",
       "  </thead>\n",
       "  <tbody>\n",
       "    <tr>\n",
       "      <th>count</th>\n",
       "      <td>103549.000000</td>\n",
       "      <td>103549.000000</td>\n",
       "      <td>103549.000000</td>\n",
       "      <td>103549.000000</td>\n",
       "      <td>103549.000000</td>\n",
       "      <td>103549.000000</td>\n",
       "      <td>1.035490e+05</td>\n",
       "      <td>103549.000000</td>\n",
       "      <td>103549.000000</td>\n",
       "      <td>103549.000000</td>\n",
       "      <td>103549.000000</td>\n",
       "    </tr>\n",
       "    <tr>\n",
       "      <th>mean</th>\n",
       "      <td>41.160455</td>\n",
       "      <td>0.221811</td>\n",
       "      <td>0.194511</td>\n",
       "      <td>5.963177</td>\n",
       "      <td>96.029348</td>\n",
       "      <td>411.280167</td>\n",
       "      <td>5.651124e+03</td>\n",
       "      <td>-0.590860</td>\n",
       "      <td>8488.543559</td>\n",
       "      <td>277.274319</td>\n",
       "      <td>81.954736</td>\n",
       "    </tr>\n",
       "    <tr>\n",
       "      <th>std</th>\n",
       "      <td>10.732090</td>\n",
       "      <td>0.080528</td>\n",
       "      <td>0.074882</td>\n",
       "      <td>2.100726</td>\n",
       "      <td>93.688300</td>\n",
       "      <td>447.686468</td>\n",
       "      <td>7.665947e+03</td>\n",
       "      <td>21.429045</td>\n",
       "      <td>6202.044115</td>\n",
       "      <td>190.989543</td>\n",
       "      <td>104.580139</td>\n",
       "    </tr>\n",
       "    <tr>\n",
       "      <th>min</th>\n",
       "      <td>12.000000</td>\n",
       "      <td>0.006530</td>\n",
       "      <td>0.000000</td>\n",
       "      <td>1.000000</td>\n",
       "      <td>0.000000</td>\n",
       "      <td>0.000000</td>\n",
       "      <td>0.000000e+00</td>\n",
       "      <td>-209.000000</td>\n",
       "      <td>1000.000000</td>\n",
       "      <td>0.000000</td>\n",
       "      <td>1.000000</td>\n",
       "    </tr>\n",
       "    <tr>\n",
       "      <th>25%</th>\n",
       "      <td>36.000000</td>\n",
       "      <td>0.158330</td>\n",
       "      <td>0.135500</td>\n",
       "      <td>4.000000</td>\n",
       "      <td>26.000000</td>\n",
       "      <td>127.000000</td>\n",
       "      <td>3.333333e+03</td>\n",
       "      <td>0.000000</td>\n",
       "      <td>4000.000000</td>\n",
       "      <td>137.980000</td>\n",
       "      <td>1.000000</td>\n",
       "    </tr>\n",
       "    <tr>\n",
       "      <th>50%</th>\n",
       "      <td>36.000000</td>\n",
       "      <td>0.212780</td>\n",
       "      <td>0.184500</td>\n",
       "      <td>6.000000</td>\n",
       "      <td>67.000000</td>\n",
       "      <td>285.000000</td>\n",
       "      <td>4.750000e+03</td>\n",
       "      <td>0.000000</td>\n",
       "      <td>7000.000000</td>\n",
       "      <td>227.210000</td>\n",
       "      <td>45.000000</td>\n",
       "    </tr>\n",
       "    <tr>\n",
       "      <th>75%</th>\n",
       "      <td>36.000000</td>\n",
       "      <td>0.287260</td>\n",
       "      <td>0.254900</td>\n",
       "      <td>7.000000</td>\n",
       "      <td>137.000000</td>\n",
       "      <td>540.000000</td>\n",
       "      <td>6.833333e+03</td>\n",
       "      <td>0.000000</td>\n",
       "      <td>12000.000000</td>\n",
       "      <td>375.720000</td>\n",
       "      <td>118.000000</td>\n",
       "    </tr>\n",
       "    <tr>\n",
       "      <th>max</th>\n",
       "      <td>60.000000</td>\n",
       "      <td>0.423950</td>\n",
       "      <td>0.360000</td>\n",
       "      <td>10.000000</td>\n",
       "      <td>755.000000</td>\n",
       "      <td>14985.000000</td>\n",
       "      <td>1.750003e+06</td>\n",
       "      <td>286.000000</td>\n",
       "      <td>35000.000000</td>\n",
       "      <td>2251.510000</td>\n",
       "      <td>1189.000000</td>\n",
       "    </tr>\n",
       "  </tbody>\n",
       "</table>\n",
       "</div>"
      ],
      "text/plain": [
       "                Term    BorrowerAPR   BorrowerRate   ProsperScore  \\\n",
       "count  103549.000000  103549.000000  103549.000000  103549.000000   \n",
       "mean       41.160455       0.221811       0.194511       5.963177   \n",
       "std        10.732090       0.080528       0.074882       2.100726   \n",
       "min        12.000000       0.006530       0.000000       1.000000   \n",
       "25%        36.000000       0.158330       0.135500       4.000000   \n",
       "50%        36.000000       0.212780       0.184500       6.000000   \n",
       "75%        36.000000       0.287260       0.254900       7.000000   \n",
       "max        60.000000       0.423950       0.360000      10.000000   \n",
       "\n",
       "       EmploymentStatusDuration  OpenRevolvingMonthlyPayment  \\\n",
       "count             103549.000000                103549.000000   \n",
       "mean                  96.029348                   411.280167   \n",
       "std                   93.688300                   447.686468   \n",
       "min                    0.000000                     0.000000   \n",
       "25%                   26.000000                   127.000000   \n",
       "50%                   67.000000                   285.000000   \n",
       "75%                  137.000000                   540.000000   \n",
       "max                  755.000000                 14985.000000   \n",
       "\n",
       "       StatedMonthlyIncome  ScorexChangeAtTimeOfListing  LoanOriginalAmount  \\\n",
       "count         1.035490e+05                103549.000000       103549.000000   \n",
       "mean          5.651124e+03                    -0.590860         8488.543559   \n",
       "std           7.665947e+03                    21.429045         6202.044115   \n",
       "min           0.000000e+00                  -209.000000         1000.000000   \n",
       "25%           3.333333e+03                     0.000000         4000.000000   \n",
       "50%           4.750000e+03                     0.000000         7000.000000   \n",
       "75%           6.833333e+03                     0.000000        12000.000000   \n",
       "max           1.750003e+06                   286.000000        35000.000000   \n",
       "\n",
       "       MonthlyLoanPayment      Investors  \n",
       "count       103549.000000  103549.000000  \n",
       "mean           277.274319      81.954736  \n",
       "std            190.989543     104.580139  \n",
       "min              0.000000       1.000000  \n",
       "25%            137.980000       1.000000  \n",
       "50%            227.210000      45.000000  \n",
       "75%            375.720000     118.000000  \n",
       "max           2251.510000    1189.000000  "
      ]
     },
     "execution_count": 382,
     "metadata": {},
     "output_type": "execute_result"
    }
   ],
   "source": [
    "loans_clean.describe()"
   ]
  },
  {
   "cell_type": "markdown",
   "metadata": {},
   "source": [
    "#### Finalised Dataset\n",
    "\n",
    "After our cleaning exercise, we can see our resulting dataset `loans_clean`."
   ]
  },
  {
   "cell_type": "markdown",
   "metadata": {},
   "source": [
    "### What is the structure of your dataset?\n",
    "\n",
    "There are 113,937 entries in the dataset with 14 variables (as listed <a href=\"#dataset-variables\">here</a>). Most variables are numeric in nature, but the variables cut, color, and clarity are ordered factor variables with the following levels.\n",
    "\n",
    "LoanStatus - [Cancelled, Chargedoff, Completed, Current, Defaulted,  FinalPaymentInProgress, PastDue] <br>\n",
    "ProsperScore - The score ranges from 1-10, with 10 being the best, or lowest risk score.  Applicable for loans originated after July 2009. <br>\n",
    "  \n",
    "### What is/are the main feature(s) of interest in your dataset?\n",
    "\n",
    "We are most interested in figuring out what factors can be used to predict the status of loan's outcome.\n",
    "\n",
    "\n",
    "### What features in the dataset do you think will help support your investigation into your feature(s) of interest?\n",
    "\n",
    "We would expect that MonthlyLoanPayment with Term would have an impact on the eventual loan's status. We also think that StatedMonthlyIncome would have an impact, as well as the borrower's employment status."
   ]
  },
  {
   "cell_type": "markdown",
   "metadata": {},
   "source": [
    "## Univariate Exploration\n",
    "\n",
    "> Using visualisation to explore some of our variables of interest.\n"
   ]
  },
  {
   "cell_type": "code",
   "execution_count": 388,
   "metadata": {},
   "outputs": [],
   "source": [
    "# Setting a default color to be used in our visualisation\n",
    "color = sb.color_palette()[0]"
   ]
  },
  {
   "cell_type": "markdown",
   "metadata": {},
   "source": [
    "#### What is the loan term borrowers seem to be most comfortbale with?"
   ]
  },
  {
   "cell_type": "code",
   "execution_count": 439,
   "metadata": {},
   "outputs": [],
   "source": [
    "'''\n",
    "    This function helps to plot a simple bar chart with\n",
    "    the provided information.\n",
    "    axis - Which axis to plot the categorical variable\n",
    "    varialbe - Which variable to plot\n",
    "    xlabel - The label for the x-axis\n",
    "    ylabel - The label for the y-axis\n",
    "'''\n",
    "def plot_bar(axis, variable, title, xlabel, ylabel):\n",
    "    if (axis == 'x'):\n",
    "        sb.countplot(data = loans_clean, x = variable, color = color);\n",
    "    else:\n",
    "        sb.countplot(data = loans_clean, y = variable, color = color);\n",
    "    plt.title(title)\n",
    "    plt.xlabel(xlabel)\n",
    "    plt.ylabel(ylabel)"
   ]
  },
  {
   "cell_type": "code",
   "execution_count": 440,
   "metadata": {},
   "outputs": [
    {
     "data": {
      "image/png": "[encoded data removed]",
      "text/plain": [
       "<Figure size 640x480 with 1 Axes>"
      ]
     },
     "metadata": {},
     "output_type": "display_data"
    }
   ],
   "source": [
    "plot_bar(\"x\", \"Term\", \"Frequency of Loan Terms\", \"Term (months)\", \"Frequency\")"
   ]
  },
  {
   "cell_type": "code",
   "execution_count": 442,
   "metadata": {},
   "outputs": [
    {
     "data": {
      "image/png": "[encoded data removed]",
      "text/plain": [
       "<Figure size 640x480 with 1 Axes>"
      ]
     },
     "metadata": {},
     "output_type": "display_data"
    }
   ],
   "source": [
    "# Displaying the visualization as proportion.\n",
    "\n",
    "plot_bar(\"x\", \"Term\", \"Percentage of Loan Terms\", \"Term (months)\", \"Proportion\")\n",
    "\n",
    "tick_props = np.arange(0, 1, 0.1)\n",
    "tick_names = ['{:0.2f}'.format(v) for v in tick_props]\n",
    "\n",
    "plt.yticks(tick_props * loans_clean.shape[0], tick_names);"
   ]
  },
  {
   "cell_type": "markdown",
   "metadata": {},
   "source": [
    "We can see that close to 80% of the listings were scheduled for a duration of 36 months (3 years) for payback. It seems like most borrowers are convenient with this period as it creates better timeline and payback schedule for them to ensure they do not default or past due date."
   ]
  },
  {
   "cell_type": "markdown",
   "metadata": {},
   "source": [
    "#### How often do borrowers complete their request loans?"
   ]
  },
  {
   "cell_type": "code",
   "execution_count": 433,
   "metadata": {},
   "outputs": [
    {
     "data": {
      "image/png": "[encoded data removed]",
      "text/plain": [
       "<Figure size 640x480 with 1 Axes>"
      ]
     },
     "metadata": {},
     "output_type": "display_data"
    }
   ],
   "source": [
    "plot_bar(\"y\", \"LoanStatus\", \"Rate of Loan Completion\", \"Frequency\", \"Proportion\")\n",
    "\n",
    "tick_props = np.arange(0, 1, 0.1)\n",
    "tick_names = ['{:0.2f}'.format(v) for v in tick_props]\n",
    "\n",
    "plt.xticks(tick_props * loans_clean.shape[0], tick_names);"
   ]
  },
  {
   "cell_type": "markdown",
   "metadata": {},
   "source": [
    "Approximately 40% of the loans have been completed (Completed or Chargedoff), which indicates there's a high completion rate. Borrowers tend to complete their loans, which means we would be able to get facters that contribute to this behaviour"
   ]
  },
  {
   "cell_type": "markdown",
   "metadata": {},
   "source": [
    "### What is distribution on requested loan amounts?"
   ]
  },
  {
   "cell_type": "code",
   "execution_count": 443,
   "metadata": {},
   "outputs": [],
   "source": [
    "def plot_hist(variable, binsize, title, xlabel, ylabel):\n",
    "    bins = np.arange(0, loans_cut[variable].max()+binsize, binsize)\n",
    "    \n",
    "    plt.hist(data = loans_cut, x = variable, bins = bins)\n",
    "    \n",
    "    plt.title(title)\n",
    "    plt.xlabel(xlabel)\n",
    "    plt.ylabel(ylabel)"
   ]
  },
  {
   "cell_type": "code",
   "execution_count": 444,
   "metadata": {},
   "outputs": [
    {
     "data": {
      "image/png": "[encoded data removed]",
      "text/plain": [
       "<Figure size 640x480 with 1 Axes>"
      ]
     },
     "metadata": {},
     "output_type": "display_data"
    }
   ],
   "source": [
    "plot_hist(\"LoanOriginalAmount\", 500, \"A distribution Loan Amounts\", \"Amount ($)\", \"Frequency\")"
   ]
  },
  {
   "cell_type": "markdown",
   "metadata": {},
   "source": [
    "A lot of borrowers tend to always borrow amount that are multiple of 5. This could be an indication of people always not wanting to get the exact amount they need, but rather close it up to a round figure."
   ]
  },
  {
   "cell_type": "markdown",
   "metadata": {},
   "source": [
    "#### Do most borrowers have a guaranteed of paying back?"
   ]
  },
  {
   "cell_type": "code",
   "execution_count": 445,
   "metadata": {
    "scrolled": false
   },
   "outputs": [
    {
     "data": {
      "image/png": "[encoded data removed]",
      "text/plain": [
       "<Figure size 640x480 with 1 Axes>"
      ]
     },
     "metadata": {},
     "output_type": "display_data"
    }
   ],
   "source": [
    "plot_bar(\"y\", \"EmploymentStatus\", \"Percentage of Borrowers Employed\", \"Proportion\", \"Employment Type\")\n",
    "\n",
    "\n",
    "tick_props = np.arange(0, 1, 0.1)\n",
    "tick_names = ['{:0.2f}'.format(v) for v in tick_props]\n",
    "\n",
    "plt.xticks(tick_props * loans_clean.shape[0], tick_names);"
   ]
  },
  {
   "cell_type": "markdown",
   "metadata": {},
   "source": [
    "We can see that a very high percentage of borrowers have a job, with close to 70% being employed with active income and a quarter of that, a full-time job."
   ]
  },
  {
   "cell_type": "markdown",
   "metadata": {},
   "source": [
    "#### Would the interest rate attached to the loan have an effect of the ability for a borrower to pay back?"
   ]
  },
  {
   "cell_type": "code",
   "execution_count": 450,
   "metadata": {},
   "outputs": [
    {
     "data": {
      "image/png": "[encoded data removed]",
      "text/plain": [
       "<Figure size 640x480 with 1 Axes>"
      ]
     },
     "metadata": {},
     "output_type": "display_data"
    }
   ],
   "source": [
    "plot_hist(\"BorrowerRate\", 0.005, \"Distribution of Loan Interate Rates\", \"Rate (%)\", \"Frequency\")"
   ]
  },
  {
   "cell_type": "markdown",
   "metadata": {},
   "source": [
    "### Discuss the distribution(s) of your variable(s) of interest. Were there any unusual points? Did you need to perform any transformations?\n",
    "\n",
    "> The Loan Amount showed a peak in amounts that are divisible by 5. And we said this could be an indication of people always not wanting to get the exact amount they need, but rather close it up to a round figure. No transformation was done.\n",
    "\n",
    "### Of the features you investigated, were there any unusual distributions? Did you perform any operations on the data to tidy, adjust, or change the form of the data? If so, why did you do this?\n",
    "\n",
    "> Yes, the ProsperScore variable had null value for some entries (about 29,000). Based on the explanation of what the ProsperScore is (A custom risk score built using historical Prosper data. The score ranges from 1-10, with 10 being the best, or lowest risk score), I was able to fill up the null values based on the mean of LoanStatus for entries with valid ProsperScores.\n",
    "> Also for the ScorexChangeAtTimeOfListing variable, I was able to fill the null values with 0, which is more appropriate, since it is only null when the borrower has no previous loans."
   ]
  },
  {
   "cell_type": "markdown",
   "metadata": {},
   "source": [
    "## Bivariate Exploration\n",
    "\n",
    "> In this section, investigate relationships between pairs of variables in your\n",
    "data. Make sure the variables that you cover here have been introduced in some\n",
    "fashion in the previous section (univariate exploration)."
   ]
  },
  {
   "cell_type": "code",
   "execution_count": null,
   "metadata": {},
   "outputs": [],
   "source": []
  },
  {
   "cell_type": "markdown",
   "metadata": {},
   "source": [
    "### Talk about some of the relationships you observed in this part of the investigation. How did the feature(s) of interest vary with other features in the dataset?\n",
    "\n",
    "> Your answer here!\n",
    "\n",
    "### Did you observe any interesting relationships between the other features (not the main feature(s) of interest)?\n",
    "\n",
    "> Your answer here!"
   ]
  },
  {
   "cell_type": "markdown",
   "metadata": {},
   "source": [
    "## Multivariate Exploration\n",
    "\n",
    "> Create plots of three or more variables to investigate your data even\n",
    "further. Make sure that your investigations are justified, and follow from\n",
    "your work in the previous sections."
   ]
  },
  {
   "cell_type": "code",
   "execution_count": null,
   "metadata": {},
   "outputs": [],
   "source": []
  },
  {
   "cell_type": "markdown",
   "metadata": {},
   "source": [
    "### Talk about some of the relationships you observed in this part of the investigation. Were there features that strengthened each other in terms of looking at your feature(s) of interest?\n",
    "\n",
    "> Your answer here!\n",
    "\n",
    "### Were there any interesting or surprising interactions between features?\n",
    "\n",
    "> Your answer here!"
   ]
  },
  {
   "cell_type": "markdown",
   "metadata": {},
   "source": [
    "## Conclusions\n",
    ">You can write a summary of the main findings and reflect on the steps taken during the data exploration.\n"
   ]
  },
  {
   "cell_type": "markdown",
   "metadata": {},
   "source": [
    "\n",
    "> Remove all Tips mentioned above, before you convert this notebook to PDF/HTML\n",
    "\n",
    "\n",
    "> At the end of your report, make sure that you export the notebook as an\n",
    "html file from the `File > Download as... > HTML or PDF` menu. Make sure you keep\n",
    "track of where the exported file goes, so you can put it in the same folder\n",
    "as this notebook for project submission. Also, make sure you remove all of\n",
    "the quote-formatted guide notes like this one before you finish your report!\n",
    "\n"
   ]
  },
  {
   "cell_type": "code",
   "execution_count": null,
   "metadata": {},
   "outputs": [],
   "source": []
  }
 ],
 "metadata": {
  "kernelspec": {
   "display_name": "Python 3 (ipykernel)",
   "language": "python",
   "name": "python3"
  },
  "language_info": {
   "codemirror_mode": {
    "name": "ipython",
    "version": 3
   },
   "file_extension": ".py",
   "mimetype": "text/x-python",
   "name": "python",
   "nbconvert_exporter": "python",
   "pygments_lexer": "ipython3",
   "version": "3.9.15"
  }
 },
 "nbformat": 4,
 "nbformat_minor": 2
}
